{
 "cells": [
  {
   "cell_type": "code",
   "execution_count": null,
   "id": "19fdf0e8-ae8c-40e9-8c5e-f9c68e2decf3",
   "metadata": {},
   "outputs": [],
   "source": [
    "import pandas as pd\n",
    "import numpy as np\n",
    "import holoviews as hv\n",
    "import hvplot.pandas  # noqa\n",
    "\n",
    "hv.extension('bokeh')\n",
    "BOKEH_OPTS = dict(height=600, width=1200)"
   ]
  },
  {
   "cell_type": "markdown",
   "id": "73927e93-51db-42e5-8e1b-9092afa060df",
   "metadata": {},
   "source": [
    "# Mores Creek Summit\n",
    "## 4 component Licor 200 Pyronometer\n",
    "\n",
    "Created with:\n",
    "https://wcc.sc.egov.usda.gov/reportGenerator/view_csv/customMultiTimeSeriesGroupByStationReport/hourly/start_of_period/637:ID:SNTL%7Cid=%22%22%7Cname/2023-10-01,2024-04-19/LWINV::value,SWINV::value,LWOTV::value,SWOTV::value?fitToScreen=false"
   ]
  },
  {
   "cell_type": "markdown",
   "id": "3810782b-1baa-4d5f-8044-4ac92fe41ce8",
   "metadata": {},
   "source": [
    "### Before 02/12"
   ]
  },
  {
   "cell_type": "code",
   "execution_count": null,
   "id": "48e4c64a-48e5-4ca2-9783-0c8029f3ccfc",
   "metadata": {},
   "outputs": [],
   "source": [
    "radiation_data = pd.read_csv(\n",
    "    '/data/Snowpack/ID-MCS-2024/NRCS-radiation-before-20240212.csv',\n",
    "    header=0,\n",
    "    comment='#',\n",
    "    names=['Site', 'Date', 'Time', 'shortwave_in', 'shortwave_out', 'longwave_in', 'longwave_out', 'drop'],\n",
    ").drop('Site', axis=1).drop('drop', axis=1)\n",
    "\n",
    "radiation_data['datetime'] = pd.to_datetime(radiation_data.pop('Date') + 'T' + radiation_data.pop('Time') + '-08:00')\n",
    "radiation_data"
   ]
  },
  {
   "cell_type": "markdown",
   "id": "554001a7-bc6e-48be-963f-372ba32b1068",
   "metadata": {},
   "source": [
    "### After 02/12"
   ]
  },
  {
   "cell_type": "code",
   "execution_count": null,
   "id": "88b8bc45-3463-45f5-9223-f3ceed46dade",
   "metadata": {},
   "outputs": [],
   "source": [
    "radiation_data_after = pd.read_csv(\n",
    "    '/data/Snowpack/ID-MCS-2024/NRCS-radiation-after-20240212.csv',\n",
    "    header=0,\n",
    "    comment='#',\n",
    "    names=['datetime', 'longwave_in', 'shortwave_in', 'longwave_out', 'shortwave_out'],\n",
    "    dtype={'datetime': str, 'ISW': np.float64 ,'OSW': np.float64, 'ILW': np.float64, 'OLW': np.float64},\n",
    ")\n",
    "radiation_data_after['datetime'] = radiation_data_after['datetime'].astype(str) + ':00-08:00'\n",
    "radiation_data_after['datetime'] = pd.to_datetime(radiation_data_after['datetime'], format='%Y-%m-%d %H:%M:%S%z')\n",
    "radiation_data_after"
   ]
  },
  {
   "cell_type": "markdown",
   "id": "1ac98393-8b71-47db-97bd-7b52d6ecddd5",
   "metadata": {},
   "source": [
    "### Merge"
   ]
  },
  {
   "cell_type": "code",
   "execution_count": null,
   "id": "185c7a91-fe55-4326-8a42-a5774914950e",
   "metadata": {},
   "outputs": [],
   "source": [
    "radiation_data = pd.concat([radiation_data, radiation_data_after])"
   ]
  },
  {
   "cell_type": "code",
   "execution_count": null,
   "id": "1d915ab2-83ac-4db0-9e46-6a6e17a130af",
   "metadata": {},
   "outputs": [],
   "source": [
    "# Data cleaning\n",
    "radiation_data = radiation_data[radiation_data['datetime'] > pd.to_datetime('2023-10-11T00:00:00-08:00')]\n",
    "\n",
    "radiation_data"
   ]
  },
  {
   "cell_type": "code",
   "execution_count": null,
   "id": "2415634b-9c43-4dcc-a6b4-378140cc0be0",
   "metadata": {},
   "outputs": [],
   "source": [
    "radiation_data.hvplot('datetime', **BOKEH_OPTS)"
   ]
  },
  {
   "cell_type": "markdown",
   "id": "9455536a-07bc-4cb6-bd5f-2558935b08b2",
   "metadata": {},
   "source": [
    "### Check merge time"
   ]
  },
  {
   "cell_type": "code",
   "execution_count": null,
   "id": "a79aea01-cf10-4ad8-9c68-aaa595b59d76",
   "metadata": {},
   "outputs": [],
   "source": [
    "radiation_data[radiation_data['datetime'] > pd.to_datetime('2024-02-12T09:00:00-08:00')]"
   ]
  },
  {
   "cell_type": "markdown",
   "id": "6f0296d0-dc46-4c60-b1e4-a90f7a83255e",
   "metadata": {},
   "source": [
    "### Store in DB"
   ]
  },
  {
   "cell_type": "code",
   "execution_count": null,
   "id": "e2b7ea8b-d719-45b1-a33f-b6448f4e3721",
   "metadata": {},
   "outputs": [],
   "source": [
    "from hrrr_db.db.connection import SQLALCHEMY_ENGINE \n",
    "from hrrr_db.db.models import Site"
   ]
  },
  {
   "cell_type": "code",
   "execution_count": null,
   "id": "d19a3b31-3c8d-414a-afe6-423b1ed4e3f6",
   "metadata": {},
   "outputs": [],
   "source": [
    "MCS_record = Site.load('Mores Creek Summit')"
   ]
  },
  {
   "cell_type": "code",
   "execution_count": null,
   "id": "8339e404-09fe-4ae8-85b5-cbb05f6fd1c3",
   "metadata": {},
   "outputs": [],
   "source": [
    "radiation_data['site_id'] = MCS_record.id"
   ]
  },
  {
   "cell_type": "code",
   "execution_count": null,
   "id": "e8b68e04-e7a8-40ea-ae1f-c5d8e31a3980",
   "metadata": {},
   "outputs": [],
   "source": [
    "radiation_data[['site_id', 'datetime', 'shortwave_in', 'shortwave_out', 'longwave_in', 'longwave_out']]\n",
    "\n",
    "#.to_csv('/data/tmp/radiation.csv', index=False)\n",
    "\n",
    "# .to_sql(\n",
    "#     name='radiation', con=SQLALCHEMY_ENGINE, method='multi', if_exists='append', index=False\n",
    "# )"
   ]
  }
 ],
 "metadata": {
  "kernelspec": {
   "display_name": "python3 (micromamba-HRRR-s3)",
   "language": "python",
   "name": "conda-env-micromamba-HRRR-s3-py"
  },
  "language_info": {
   "codemirror_mode": {
    "name": "ipython",
    "version": 3
   },
   "file_extension": ".py",
   "mimetype": "text/x-python",
   "name": "python",
   "nbconvert_exporter": "python",
   "pygments_lexer": "ipython3",
   "version": "3.12.2"
  }
 },
 "nbformat": 4,
 "nbformat_minor": 5
}
